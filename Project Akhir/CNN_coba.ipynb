{
  "nbformat": 4,
  "nbformat_minor": 0,
  "metadata": {
    "colab": {
      "name": "CNN coba.ipynb",
      "provenance": []
    },
    "kernelspec": {
      "name": "python3",
      "display_name": "Python 3"
    },
    "language_info": {
      "name": "python"
    }
  },
  "cells": [
    {
      "cell_type": "code",
      "source": [
        "from google.colab import drive\n",
        "drive.mount('/content/drive')"
      ],
      "metadata": {
        "colab": {
          "base_uri": "https://localhost:8080/"
        },
        "id": "Z9rvJdYqIXfA",
        "outputId": "19995121-2d90-4c4c-f4ec-29a22d6396b6"
      },
      "execution_count": null,
      "outputs": [
        {
          "output_type": "stream",
          "name": "stdout",
          "text": [
            "Drive already mounted at /content/drive; to attempt to forcibly remount, call drive.mount(\"/content/drive\", force_remount=True).\n"
          ]
        }
      ]
    },
    {
      "cell_type": "markdown",
      "source": [
        ""
      ],
      "metadata": {
        "id": "-bA-ZNnyGpzV"
      }
    },
    {
      "cell_type": "code",
      "source": [
        "import os\n",
        "# directory training dengan gambar ali\n",
        "train_ali_dir = os.path.join('/content/drive/MyDrive/Dataset/PA/training/Ali')\n",
        "# directory training dengan gambar fikri\n",
        "train_fikri_dir = os.path.join('/content/drive/MyDrive/Dataset/PA/training/Fikri')\n",
        "# directory training dengan gambar irawan\n",
        "train_irawan_dir = os.path.join('/content/drive/MyDrive/Dataset/PA/training/Irawan')\n",
        "# directory training dengan gambar irsyad\n",
        "train_irsyad_dir = os.path.join('/content/drive/MyDrive/Dataset/PA/training/Irsyad')\n",
        "# directory training dengan gambar salsa\n",
        "train_salsa_dir = os.path.join('/content/drive/MyDrive/Dataset/PA/training/Salsa')\n",
        "\n",
        "# directory validation dengan gambar ali\n",
        "valid_ali_dir = os.path.join('/content/drive/MyDrive/Dataset/PA/validation/Ali')\n",
        "# directory validation dengan gambar fikri\n",
        "valid_fikri_dir = os.path.join('/content/drive/MyDrive/Dataset/PA/validation/Fikri')\n",
        "# directory validation dengan gambar irawan\n",
        "valid_irawan_dir = os.path.join('/content/drive/MyDrive/Dataset/PA/validation/Irawan')\n",
        "# directory validation dengan gambar irsyad\n",
        "valid_irsyad_dir = os.path.join('/content/drive/MyDrive/Dataset/PA/validation/Irsyad')\n",
        "# directory validation dengan gambar salsa\n",
        "valid_salsa_dir = os.path.join('/content/drive/MyDrive/Dataset/PA/validation/Salsa')"
      ],
      "metadata": {
        "id": "DCZLJWwnIii5"
      },
      "execution_count": null,
      "outputs": []
    },
    {
      "cell_type": "code",
      "source": [
        "train_ali_names = os.listdir(train_ali_dir)\n",
        "print(train_ali_names[:5])\n",
        "train_fikri_names = os.listdir(train_fikri_dir)\n",
        "print(train_fikri_names[:5])\n",
        "train_irawan_names = os.listdir(train_irawan_dir)\n",
        "print(train_irawan_names[:5])\n",
        "train_irsyad_names = os.listdir(train_irsyad_dir)\n",
        "print(train_irsyad_names[:5])\n",
        "train_salsa_names = os.listdir(train_salsa_dir)\n",
        "print(train_salsa_names[:5])\n",
        "\n",
        "valid_ali_names = os.listdir(valid_ali_dir)\n",
        "print(valid_ali_names)\n",
        "valid_fikri_names = os.listdir(valid_fikri_dir)\n",
        "print(valid_fikri_names)\n",
        "valid_irawan_names = os.listdir(valid_irawan_dir)\n",
        "print(valid_irawan_names)\n",
        "valid_irsyad_names = os.listdir(valid_irsyad_dir)\n",
        "print(valid_irsyad_names)\n",
        "valid_salsa_names = os.listdir(valid_salsa_dir)\n",
        "print(valid_salsa_names)"
      ],
      "metadata": {
        "colab": {
          "base_uri": "https://localhost:8080/"
        },
        "id": "YdjQkxiZOBkl",
        "outputId": "5d046804-94a7-4c69-a26d-c7eb0143d834"
      },
      "execution_count": null,
      "outputs": [
        {
          "output_type": "stream",
          "name": "stdout",
          "text": [
            "['A50.jpg', 'A47.jpg', 'A49.jpg', 'A46.jpg', 'A48.jpg']\n",
            "['F17.jpg', 'F14.jpg', 'F16.jpg', 'F9.jpg', 'F8.jpg']\n",
            "['I50.jpg', 'I7.jpg', 'I35.jpg', 'I6.jpg', 'I34.jpg']\n",
            "['Ir16.jpeg', 'Ir15.jpeg', 'Ir17.jpeg', 'Ir20.jpeg', 'Ir18.jpeg']\n",
            "['S48.jpg', 'S47.jpg', 'S49.jpg', 'S50.jpg', 'S46.jpg']\n",
            "['A44.jpg', 'A33.jpg', 'A38.jpg', 'A22.jpg', 'A26.jpg', 'A20.jpg', 'A11.jpg', 'A6.jpg', 'A10.jpg']\n",
            "['F15.jpg', 'F13.jpg', 'F5.jpg', 'F50.jpg', 'F49.jpg', 'F46.jpg', 'F41.jpg', 'F28.jpg', 'F4.jpg']\n",
            "['I49.jpg', 'I33.jpg', 'I8.jpg', 'I27.jpg', 'I45.jpg', 'I20.jpg', 'I36.jpg', 'I12.jpg', 'I41.jpg', 'I10.jpg']\n",
            "['Ir14.jpeg', 'Ir13.jpeg', 'Ir22.jpeg', 'Ir26.jpeg', 'Ir32.jpeg', 'Ir35.jpeg', 'Ir37.jpeg', 'Ir39.jpeg', 'Ir1.jpg', 'Ir12.jpg']\n",
            "['S44.jpg', 'S39.jpg', 'S36.jpg', 'S31.jpg', 'S24.jpg', 'S21.jpg', 'S18.jpg', 'S13.jpg', 'S11.jpg', 'S6.jpg']\n"
          ]
        }
      ]
    },
    {
      "cell_type": "code",
      "source": [
        "print('Total training gambar ali\\t: ', len(os.listdir(train_ali_dir)))\n",
        "print('Total training gambar fikri\\t: ', len(os.listdir(train_fikri_dir)))\n",
        "print('Total training gambar irawan\\t: ', len(os.listdir(train_irawan_dir)))\n",
        "print('Total training gambar irsyad\\t: ', len(os.listdir(train_irsyad_dir)))\n",
        "print('Total training gambar salsa\\t: ', len(os.listdir(train_salsa_dir)))\n",
        "print('Total validation gambar ali\\t: ', len(os.listdir(valid_ali_dir)))\n",
        "print('Total validation gambar fikri\\t: ', len(os.listdir(valid_fikri_dir)))\n",
        "print('Total validation gambar irawan\\t: ', len(os.listdir(valid_irawan_dir)))\n",
        "print('Total validation gambar irsyad\\t: ', len(os.listdir(valid_irsyad_dir)))\n",
        "print('Total validation gambar salsa\\t: ', len(os.listdir(valid_salsa_dir)))"
      ],
      "metadata": {
        "colab": {
          "base_uri": "https://localhost:8080/"
        },
        "id": "hUfr4vhlLa6o",
        "outputId": "5647a56c-426a-4013-f8ec-ce41eb8c8eea"
      },
      "execution_count": null,
      "outputs": [
        {
          "output_type": "stream",
          "name": "stdout",
          "text": [
            "Total training gambar ali\t:  39\n",
            "Total training gambar fikri\t:  39\n",
            "Total training gambar irawan\t:  38\n",
            "Total training gambar irsyad\t:  38\n",
            "Total training gambar salsa\t:  38\n",
            "Total validation gambar ali\t:  9\n",
            "Total validation gambar fikri\t:  9\n",
            "Total validation gambar irawan\t:  10\n",
            "Total validation gambar irsyad\t:  10\n",
            "Total validation gambar salsa\t:  10\n"
          ]
        }
      ]
    },
    {
      "cell_type": "code",
      "source": [
        "import tensorflow as tf\n",
        "from keras.preprocessing.image import ImageDataGenerator\n",
        "train_datagen = ImageDataGenerator(rescale = 1./255,\n",
        "                                   shear_range = 0.2,\n",
        "                                   zoom_range = 0.2,\n",
        "                                   horizontal_flip = True)\n",
        "\n",
        "training_set = train_datagen.flow_from_directory('/content/drive/MyDrive/Dataset/PA/training',\n",
        "                                                 target_size = (150, 150),\n",
        "                                                 batch_size = 10,\n",
        "                                                 class_mode = 'categorical')"
      ],
      "metadata": {
        "colab": {
          "base_uri": "https://localhost:8080/"
        },
        "id": "AU_sNU7T0wGp",
        "outputId": "20c3a995-ff7e-413a-e9db-185fa5ecd69b"
      },
      "execution_count": null,
      "outputs": [
        {
          "output_type": "stream",
          "name": "stdout",
          "text": [
            "Found 192 images belonging to 5 classes.\n"
          ]
        }
      ]
    },
    {
      "cell_type": "code",
      "source": [
        "test_datagen = ImageDataGenerator(rescale = 1./255)\n",
        "test_set = test_datagen.flow_from_directory('/content/drive/MyDrive/Dataset/PA/validation',\n",
        "                                            target_size = (150,150),\n",
        "                                            batch_size = 5,\n",
        "                                            class_mode = 'categorical')"
      ],
      "metadata": {
        "colab": {
          "base_uri": "https://localhost:8080/"
        },
        "id": "6Vb2vPEU1c7P",
        "outputId": "649f518f-6515-4c5e-90bb-5f95369e4526"
      },
      "execution_count": null,
      "outputs": [
        {
          "output_type": "stream",
          "name": "stdout",
          "text": [
            "Found 48 images belonging to 5 classes.\n"
          ]
        }
      ]
    },
    {
      "cell_type": "code",
      "source": [
        "cnn = tf.keras.models.Sequential()\n",
        "cnn.add(tf.keras.layers.Conv2D(filters=32, kernel_size=3, activation='relu', input_shape=[150, 150, 3]))\n",
        "cnn.add(tf.keras.layers.MaxPool2D(pool_size=2, strides=2))\n",
        "cnn.add(tf.keras.layers.Conv2D(filters=64, kernel_size=3, activation='relu'))\n",
        "cnn.add(tf.keras.layers.MaxPool2D(pool_size=2, strides=2))\n",
        "cnn.add(tf.keras.layers.Conv2D(filters=128, kernel_size=3, activation='relu'))\n",
        "cnn.add(tf.keras.layers.MaxPool2D(pool_size=2, strides=2))\n",
        "cnn.add(tf.keras.layers.Flatten())\n",
        "cnn.add(tf.keras.layers.Dense(units=512, activation='relu'))\n",
        "cnn.add(tf.keras.layers.Dense(units=5, activation='softmax'))\n",
        "\n",
        "cnn.compile(loss = 'categorical_crossentropy', optimizer='adam', metrics=['accuracy'])\n",
        "print(cnn.summary())"
      ],
      "metadata": {
        "colab": {
          "base_uri": "https://localhost:8080/"
        },
        "id": "lG4MELwr2Mau",
        "outputId": "8da7856f-9b1a-48a0-c414-16c5bd941b37"
      },
      "execution_count": null,
      "outputs": [
        {
          "output_type": "stream",
          "name": "stdout",
          "text": [
            "Model: \"sequential_1\"\n",
            "_________________________________________________________________\n",
            " Layer (type)                Output Shape              Param #   \n",
            "=================================================================\n",
            " conv2d_3 (Conv2D)           (None, 148, 148, 32)      896       \n",
            "                                                                 \n",
            " max_pooling2d_3 (MaxPooling  (None, 74, 74, 32)       0         \n",
            " 2D)                                                             \n",
            "                                                                 \n",
            " conv2d_4 (Conv2D)           (None, 72, 72, 64)        18496     \n",
            "                                                                 \n",
            " max_pooling2d_4 (MaxPooling  (None, 36, 36, 64)       0         \n",
            " 2D)                                                             \n",
            "                                                                 \n",
            " conv2d_5 (Conv2D)           (None, 34, 34, 128)       73856     \n",
            "                                                                 \n",
            " max_pooling2d_5 (MaxPooling  (None, 17, 17, 128)      0         \n",
            " 2D)                                                             \n",
            "                                                                 \n",
            " flatten_1 (Flatten)         (None, 36992)             0         \n",
            "                                                                 \n",
            " dense_2 (Dense)             (None, 512)               18940416  \n",
            "                                                                 \n",
            " dense_3 (Dense)             (None, 5)                 2565      \n",
            "                                                                 \n",
            "=================================================================\n",
            "Total params: 19,036,229\n",
            "Trainable params: 19,036,229\n",
            "Non-trainable params: 0\n",
            "_________________________________________________________________\n",
            "None\n"
          ]
        }
      ]
    },
    {
      "cell_type": "code",
      "source": [
        "history = cnn.fit(x=training_set, validation_data = test_set, epochs = 20)"
      ],
      "metadata": {
        "colab": {
          "base_uri": "https://localhost:8080/"
        },
        "id": "iBESWHMv2PgG",
        "outputId": "cb6cdba5-22e6-4703-e42e-dccead523528"
      },
      "execution_count": null,
      "outputs": [
        {
          "output_type": "stream",
          "name": "stdout",
          "text": [
            "Epoch 1/20\n",
            "20/20 [==============================] - 26s 1s/step - loss: 1.6595 - accuracy: 0.2917 - val_loss: 1.1069 - val_accuracy: 0.6875\n",
            "Epoch 2/20\n",
            "20/20 [==============================] - 25s 1s/step - loss: 0.8594 - accuracy: 0.7135 - val_loss: 0.4154 - val_accuracy: 0.8542\n",
            "Epoch 3/20\n",
            "20/20 [==============================] - 25s 1s/step - loss: 0.6680 - accuracy: 0.7812 - val_loss: 0.2929 - val_accuracy: 0.8750\n",
            "Epoch 4/20\n",
            "20/20 [==============================] - 25s 1s/step - loss: 0.3456 - accuracy: 0.8958 - val_loss: 0.1585 - val_accuracy: 0.9375\n",
            "Epoch 5/20\n",
            "20/20 [==============================] - 25s 1s/step - loss: 0.1903 - accuracy: 0.9219 - val_loss: 0.3085 - val_accuracy: 0.9167\n",
            "Epoch 6/20\n",
            "20/20 [==============================] - 24s 1s/step - loss: 0.2441 - accuracy: 0.9115 - val_loss: 0.1660 - val_accuracy: 0.9167\n",
            "Epoch 7/20\n",
            "20/20 [==============================] - 25s 1s/step - loss: 0.3629 - accuracy: 0.8802 - val_loss: 0.2615 - val_accuracy: 0.9375\n",
            "Epoch 8/20\n",
            "20/20 [==============================] - 25s 1s/step - loss: 0.2100 - accuracy: 0.9375 - val_loss: 0.1683 - val_accuracy: 0.9375\n",
            "Epoch 9/20\n",
            "20/20 [==============================] - 24s 1s/step - loss: 0.0995 - accuracy: 0.9635 - val_loss: 0.0406 - val_accuracy: 0.9792\n",
            "Epoch 10/20\n",
            "20/20 [==============================] - 24s 1s/step - loss: 0.1259 - accuracy: 0.9583 - val_loss: 0.1233 - val_accuracy: 0.9375\n",
            "Epoch 11/20\n",
            "20/20 [==============================] - 25s 1s/step - loss: 0.1621 - accuracy: 0.9323 - val_loss: 0.0755 - val_accuracy: 0.9792\n",
            "Epoch 12/20\n",
            "20/20 [==============================] - 25s 1s/step - loss: 0.1320 - accuracy: 0.9688 - val_loss: 0.1616 - val_accuracy: 0.9375\n",
            "Epoch 13/20\n",
            "20/20 [==============================] - 25s 1s/step - loss: 0.1701 - accuracy: 0.9375 - val_loss: 0.3914 - val_accuracy: 0.8750\n",
            "Epoch 14/20\n",
            "20/20 [==============================] - 25s 1s/step - loss: 0.1156 - accuracy: 0.9583 - val_loss: 0.0393 - val_accuracy: 1.0000\n",
            "Epoch 15/20\n",
            "20/20 [==============================] - 25s 1s/step - loss: 0.0332 - accuracy: 0.9948 - val_loss: 0.1560 - val_accuracy: 0.9375\n",
            "Epoch 16/20\n",
            "20/20 [==============================] - 25s 1s/step - loss: 0.1228 - accuracy: 0.9583 - val_loss: 0.0268 - val_accuracy: 1.0000\n",
            "Epoch 17/20\n",
            "20/20 [==============================] - 25s 1s/step - loss: 0.0541 - accuracy: 0.9792 - val_loss: 0.0253 - val_accuracy: 1.0000\n",
            "Epoch 18/20\n",
            "20/20 [==============================] - 25s 1s/step - loss: 0.1125 - accuracy: 0.9688 - val_loss: 0.1635 - val_accuracy: 0.9375\n",
            "Epoch 19/20\n",
            "20/20 [==============================] - 25s 1s/step - loss: 0.0934 - accuracy: 0.9635 - val_loss: 0.1562 - val_accuracy: 0.9583\n",
            "Epoch 20/20\n",
            "20/20 [==============================] - 25s 1s/step - loss: 0.0538 - accuracy: 0.9844 - val_loss: 0.2181 - val_accuracy: 0.9583\n"
          ]
        }
      ]
    },
    {
      "cell_type": "code",
      "source": [
        "import matplotlib.pyplot as plt\n",
        "acc = history.history['accuracy']\n",
        "val_acc = history.history['val_accuracy']\n",
        "loss = history.history['loss']\n",
        "val_loss = history.history['val_loss']\n",
        "\n",
        "epochs = range(len(acc))\n",
        "\n",
        "plt.plot(epochs, acc, 'r', label='Training Accuracy')\n",
        "plt.plot(epochs, val_acc, 'b', label='Validation Accuracy')\n",
        "plt.title('Training and Validation Accuracy')\n",
        "plt.legend(loc=0)\n",
        "plt.figure()\n",
        "\n",
        "\n",
        "plt.show()"
      ],
      "metadata": {
        "colab": {
          "base_uri": "https://localhost:8080/",
          "height": 298
        },
        "id": "mSrxPIqP5vyQ",
        "outputId": "02df8f3e-32a8-4d36-ae29-79d7ae93db03"
      },
      "execution_count": null,
      "outputs": [
        {
          "output_type": "display_data",
          "data": {
            "text/plain": [
              "<Figure size 432x288 with 1 Axes>"
            ],
            "image/png": "[encoded data removed]"
          },
          "metadata": {
            "needs_background": "light"
          }
        },
        {
          "output_type": "display_data",
          "data": {
            "text/plain": [
              "<Figure size 432x288 with 0 Axes>"
            ]
          },
          "metadata": {}
        }
      ]
    },
    {
      "cell_type": "code",
      "source": [
        "plt.plot(epochs, loss, 'r', label='Training Loss')\n",
        "plt.plot(epochs, val_loss, 'b', label='Validation Loss')\n",
        "plt.title('Training and Validation Loss')\n",
        "plt.legend(loc=0)\n",
        "plt.figure()"
      ],
      "metadata": {
        "id": "-TeJDhHO5zLu",
        "outputId": "9bbda15a-cd25-4f71-e2fa-da7a754b20ad",
        "colab": {
          "base_uri": "https://localhost:8080/",
          "height": 316
        }
      },
      "execution_count": null,
      "outputs": [
        {
          "output_type": "execute_result",
          "data": {
            "text/plain": [
              "<Figure size 432x288 with 0 Axes>"
            ]
          },
          "metadata": {},
          "execution_count": 19
        },
        {
          "output_type": "display_data",
          "data": {
            "text/plain": [
              "<Figure size 432x288 with 1 Axes>"
            ],
            "image/png": "[encoded data removed]"
          },
          "metadata": {
            "needs_background": "light"
          }
        },
        {
          "output_type": "display_data",
          "data": {
            "text/plain": [
              "<Figure size 432x288 with 0 Axes>"
            ]
          },
          "metadata": {}
        }
      ]
    },
    {
      "cell_type": "code",
      "source": [
        "cnn.save('/content/drive/MyDrive/Dataset/face_classification.h5')"
      ],
      "metadata": {
        "id": "ulJYm6VeX5uE"
      },
      "execution_count": null,
      "outputs": []
    },
    {
      "cell_type": "code",
      "source": [
        "from keras.models import load_model"
      ],
      "metadata": {
        "id": "2E1t2_gvYJMU"
      },
      "execution_count": null,
      "outputs": []
    },
    {
      "cell_type": "code",
      "source": [
        "model = load_model('/content/drive/MyDrive/Dataset/face_classification.h5')\n",
        "model.summary()"
      ],
      "metadata": {
        "colab": {
          "base_uri": "https://localhost:8080/"
        },
        "id": "P1RQyuOHYN12",
        "outputId": "eae7d9f2-b54a-4271-b564-3c6dea8d8203"
      },
      "execution_count": null,
      "outputs": [
        {
          "output_type": "stream",
          "name": "stdout",
          "text": [
            "Model: \"sequential_1\"\n",
            "_________________________________________________________________\n",
            " Layer (type)                Output Shape              Param #   \n",
            "=================================================================\n",
            " conv2d_3 (Conv2D)           (None, 148, 148, 32)      896       \n",
            "                                                                 \n",
            " max_pooling2d_3 (MaxPooling  (None, 74, 74, 32)       0         \n",
            " 2D)                                                             \n",
            "                                                                 \n",
            " conv2d_4 (Conv2D)           (None, 72, 72, 64)        18496     \n",
            "                                                                 \n",
            " max_pooling2d_4 (MaxPooling  (None, 36, 36, 64)       0         \n",
            " 2D)                                                             \n",
            "                                                                 \n",
            " conv2d_5 (Conv2D)           (None, 34, 34, 128)       73856     \n",
            "                                                                 \n",
            " max_pooling2d_5 (MaxPooling  (None, 17, 17, 128)      0         \n",
            " 2D)                                                             \n",
            "                                                                 \n",
            " flatten_1 (Flatten)         (None, 36992)             0         \n",
            "                                                                 \n",
            " dense_2 (Dense)             (None, 512)               18940416  \n",
            "                                                                 \n",
            " dense_3 (Dense)             (None, 5)                 2565      \n",
            "                                                                 \n",
            "=================================================================\n",
            "Total params: 19,036,229\n",
            "Trainable params: 19,036,229\n",
            "Non-trainable params: 0\n",
            "_________________________________________________________________\n"
          ]
        }
      ]
    },
    {
      "cell_type": "code",
      "source": [
        "hist = model.fit(x = training_set,\n",
        "                 epochs = 5,\n",
        "                 validation_data = test_set)"
      ],
      "metadata": {
        "colab": {
          "base_uri": "https://localhost:8080/"
        },
        "id": "wCpAuqP7YXnN",
        "outputId": "c8114622-2a5e-4080-8cb3-ccffab556048"
      },
      "execution_count": null,
      "outputs": [
        {
          "output_type": "stream",
          "name": "stdout",
          "text": [
            "Epoch 1/5\n",
            "20/20 [==============================] - 26s 1s/step - loss: 0.0623 - accuracy: 0.9844 - val_loss: 0.2881 - val_accuracy: 0.9167\n",
            "Epoch 2/5\n",
            "20/20 [==============================] - 25s 1s/step - loss: 0.1926 - accuracy: 0.9583 - val_loss: 0.5045 - val_accuracy: 0.8333\n",
            "Epoch 3/5\n",
            "20/20 [==============================] - 25s 1s/step - loss: 0.2176 - accuracy: 0.9323 - val_loss: 0.2318 - val_accuracy: 0.8958\n",
            "Epoch 4/5\n",
            "20/20 [==============================] - 25s 1s/step - loss: 0.0717 - accuracy: 0.9688 - val_loss: 0.0470 - val_accuracy: 0.9792\n",
            "Epoch 5/5\n",
            "20/20 [==============================] - 25s 1s/step - loss: 0.0331 - accuracy: 0.9896 - val_loss: 0.0143 - val_accuracy: 1.0000\n"
          ]
        }
      ]
    },
    {
      "cell_type": "code",
      "source": [
        "model.save('/content/drive/MyDrive/Dataset/face_model.h5')"
      ],
      "metadata": {
        "id": "wTJfJD5Ka34J"
      },
      "execution_count": null,
      "outputs": []
    },
    {
      "cell_type": "code",
      "source": [
        "model1 = load_model('/content/drive/MyDrive/Dataset/face_model.h5')\n",
        "model1.summary()"
      ],
      "metadata": {
        "colab": {
          "base_uri": "https://localhost:8080/"
        },
        "id": "32OKvuOZrz81",
        "outputId": "c7c87cf5-b5a8-4496-daa5-33535d4710da"
      },
      "execution_count": null,
      "outputs": [
        {
          "output_type": "stream",
          "name": "stdout",
          "text": [
            "Model: \"sequential_1\"\n",
            "_________________________________________________________________\n",
            " Layer (type)                Output Shape              Param #   \n",
            "=================================================================\n",
            " conv2d_3 (Conv2D)           (None, 148, 148, 32)      896       \n",
            "                                                                 \n",
            " max_pooling2d_3 (MaxPooling  (None, 74, 74, 32)       0         \n",
            " 2D)                                                             \n",
            "                                                                 \n",
            " conv2d_4 (Conv2D)           (None, 72, 72, 64)        18496     \n",
            "                                                                 \n",
            " max_pooling2d_4 (MaxPooling  (None, 36, 36, 64)       0         \n",
            " 2D)                                                             \n",
            "                                                                 \n",
            " conv2d_5 (Conv2D)           (None, 34, 34, 128)       73856     \n",
            "                                                                 \n",
            " max_pooling2d_5 (MaxPooling  (None, 17, 17, 128)      0         \n",
            " 2D)                                                             \n",
            "                                                                 \n",
            " flatten_1 (Flatten)         (None, 36992)             0         \n",
            "                                                                 \n",
            " dense_2 (Dense)             (None, 512)               18940416  \n",
            "                                                                 \n",
            " dense_3 (Dense)             (None, 5)                 2565      \n",
            "                                                                 \n",
            "=================================================================\n",
            "Total params: 19,036,229\n",
            "Trainable params: 19,036,229\n",
            "Non-trainable params: 0\n",
            "_________________________________________________________________\n"
          ]
        }
      ]
    },
    {
      "cell_type": "code",
      "source": [
        "hist = model1.fit(x = training_set,\n",
        "                 epochs = 5,\n",
        "                 validation_data = test_set)"
      ],
      "metadata": {
        "colab": {
          "base_uri": "https://localhost:8080/"
        },
        "id": "n2XH2Jlfr_cq",
        "outputId": "71d910f8-6ded-4890-c144-536206a5e0ec"
      },
      "execution_count": null,
      "outputs": [
        {
          "output_type": "stream",
          "name": "stdout",
          "text": [
            "Epoch 1/5\n",
            "20/20 [==============================] - 27s 1s/step - loss: 0.0375 - accuracy: 0.9792 - val_loss: 0.0104 - val_accuracy: 1.0000\n",
            "Epoch 2/5\n",
            "20/20 [==============================] - 25s 1s/step - loss: 0.0270 - accuracy: 0.9896 - val_loss: 0.0134 - val_accuracy: 1.0000\n",
            "Epoch 3/5\n",
            "20/20 [==============================] - 26s 1s/step - loss: 0.0212 - accuracy: 0.9896 - val_loss: 0.0952 - val_accuracy: 0.9583\n",
            "Epoch 4/5\n",
            "20/20 [==============================] - 25s 1s/step - loss: 0.0250 - accuracy: 0.9896 - val_loss: 0.0246 - val_accuracy: 1.0000\n",
            "Epoch 5/5\n",
            "20/20 [==============================] - 25s 1s/step - loss: 0.0166 - accuracy: 0.9896 - val_loss: 0.0543 - val_accuracy: 0.9792\n"
          ]
        }
      ]
    },
    {
      "cell_type": "code",
      "source": [
        "model1.save('/content/drive/MyDrive/Dataset/face_model_madel.h5')"
      ],
      "metadata": {
        "id": "n3oA8UabttSG"
      },
      "execution_count": null,
      "outputs": []
    },
    {
      "cell_type": "code",
      "source": [
        "from keras.models import load_model\n",
        "model = load_model('/content/drive/MyDrive/Dataset/face_model_madel.h5')\n",
        "model.summary()"
      ],
      "metadata": {
        "colab": {
          "base_uri": "https://localhost:8080/"
        },
        "id": "XqJsv4BWHCod",
        "outputId": "7d775a7d-8f0e-4a90-8cf3-766cdefc3211"
      },
      "execution_count": null,
      "outputs": [
        {
          "output_type": "stream",
          "name": "stdout",
          "text": [
            "Model: \"sequential_1\"\n",
            "_________________________________________________________________\n",
            " Layer (type)                Output Shape              Param #   \n",
            "=================================================================\n",
            " conv2d_3 (Conv2D)           (None, 148, 148, 32)      896       \n",
            "                                                                 \n",
            " max_pooling2d_3 (MaxPooling  (None, 74, 74, 32)       0         \n",
            " 2D)                                                             \n",
            "                                                                 \n",
            " conv2d_4 (Conv2D)           (None, 72, 72, 64)        18496     \n",
            "                                                                 \n",
            " max_pooling2d_4 (MaxPooling  (None, 36, 36, 64)       0         \n",
            " 2D)                                                             \n",
            "                                                                 \n",
            " conv2d_5 (Conv2D)           (None, 34, 34, 128)       73856     \n",
            "                                                                 \n",
            " max_pooling2d_5 (MaxPooling  (None, 17, 17, 128)      0         \n",
            " 2D)                                                             \n",
            "                                                                 \n",
            " flatten_1 (Flatten)         (None, 36992)             0         \n",
            "                                                                 \n",
            " dense_2 (Dense)             (None, 512)               18940416  \n",
            "                                                                 \n",
            " dense_3 (Dense)             (None, 5)                 2565      \n",
            "                                                                 \n",
            "=================================================================\n",
            "Total params: 19,036,229\n",
            "Trainable params: 19,036,229\n",
            "Non-trainable params: 0\n",
            "_________________________________________________________________\n"
          ]
        }
      ]
    }
  ]
}